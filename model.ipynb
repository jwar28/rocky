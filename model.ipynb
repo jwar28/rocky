{
 "cells": [
  {
   "cell_type": "markdown",
   "metadata": {},
   "source": [
    "Importamos las librerias"
   ]
  },
  {
   "cell_type": "code",
   "execution_count": 37,
   "metadata": {},
   "outputs": [],
   "source": [
    "import pandas as pd\n",
    "from surprise import Dataset, Reader, SVD, accuracy\n",
    "from surprise.model_selection import train_test_split\n",
    "from surprise.model_selection import cross_validate\n",
    "import pickle"
   ]
  },
  {
   "cell_type": "markdown",
   "metadata": {},
   "source": [
    "Cargamos los datos"
   ]
  },
  {
   "cell_type": "code",
   "execution_count": 38,
   "metadata": {},
   "outputs": [],
   "source": [
    "ratings_file_path = 'data/ratings.csv'\n",
    "movies_file_path = 'data/movies.csv'"
   ]
  },
  {
   "cell_type": "code",
   "execution_count": 39,
   "metadata": {},
   "outputs": [],
   "source": [
    "ratings = pd.read_csv(ratings_file_path)\n",
    "movies = pd.read_csv(movies_file_path)"
   ]
  },
  {
   "cell_type": "markdown",
   "metadata": {},
   "source": [
    "Definimos los rangos de valores de los datos"
   ]
  },
  {
   "cell_type": "code",
   "execution_count": 40,
   "metadata": {},
   "outputs": [],
   "source": [
    "reader = Reader(rating_scale=(0.5, 5.0))\n",
    "data = Dataset.load_from_df(ratings[['userId', 'movieId', 'rating']], reader)"
   ]
  },
  {
   "cell_type": "markdown",
   "metadata": {},
   "source": [
    "Definimos los datos de test y de train\n"
   ]
  },
  {
   "cell_type": "code",
   "execution_count": 41,
   "metadata": {},
   "outputs": [],
   "source": [
    "trainset, testset = train_test_split(data, test_size=0.3)"
   ]
  },
  {
   "cell_type": "markdown",
   "metadata": {},
   "source": [
    "SVD es una técnica de factorización de matrices utilizada en sistemas de recomendación. Es especialmente conocida por su uso en la descomposición de la matriz de calificaciones en matrices más pequeñas y manejables, lo que permite realizar recomendaciones de manera más eficiente.   \n",
    "Durante el entrenamiento, el algoritmo SVD aprende las características latentes de los usuarios y las películas para poder predecir calificaciones para las películas que los usuarios aún no han visto."
   ]
  },
  {
   "cell_type": "code",
   "execution_count": 42,
   "metadata": {},
   "outputs": [],
   "source": [
    "for i in range(20):\n",
    "    algo = SVD()\n",
    "    algo.fit(trainset)"
   ]
  },
  {
   "cell_type": "code",
   "execution_count": 54,
   "metadata": {},
   "outputs": [
    {
     "data": {
      "text/plain": [
       "{'test_rmse': array([0.85975645, 0.87648165, 0.87236294, 0.86246865, 0.86826313,\n",
       "        0.86953261, 0.86873562, 0.88225977, 0.86250141, 0.86992724]),\n",
       " 'test_mae': array([0.66085552, 0.67258009, 0.66729459, 0.66117744, 0.66686932,\n",
       "        0.67042925, 0.66737478, 0.67455277, 0.6628532 , 0.67183556]),\n",
       " 'fit_time': (1.290757417678833,\n",
       "  1.09952974319458,\n",
       "  0.9470555782318115,\n",
       "  0.9760026931762695,\n",
       "  1.0021893978118896,\n",
       "  1.0107810497283936,\n",
       "  0.9500093460083008,\n",
       "  0.9423627853393555,\n",
       "  0.9470317363739014,\n",
       "  0.9490716457366943),\n",
       " 'test_time': (0.04448437690734863,\n",
       "  0.04487466812133789,\n",
       "  0.04320049285888672,\n",
       "  0.04491615295410156,\n",
       "  0.04211711883544922,\n",
       "  0.0869297981262207,\n",
       "  0.04231619834899902,\n",
       "  0.04379153251647949,\n",
       "  0.045148372650146484,\n",
       "  0.04578375816345215)}"
      ]
     },
     "execution_count": 54,
     "metadata": {},
     "output_type": "execute_result"
    }
   ],
   "source": [
    "algo = SVD()\n",
    "cross_validate(algo, data, measures=['RMSE', 'MAE'], cv=10, verbose=False)"
   ]
  },
  {
   "cell_type": "code",
   "execution_count": 55,
   "metadata": {},
   "outputs": [
    {
     "name": "stdout",
     "output_type": "stream",
     "text": [
      "RMSE: 0.6605\n"
     ]
    }
   ],
   "source": [
    "rmse = accuracy.rmse(algo.test(testset))\n",
    "RMSE: {rmse}"
   ]
  },
  {
   "cell_type": "code",
   "execution_count": 56,
   "metadata": {},
   "outputs": [],
   "source": [
    "with open('svd_model.pkl', 'wb') as model_file:\n",
    "    pickle.dump(algo, model_file)"
   ]
  }
 ],
 "metadata": {
  "kernelspec": {
   "display_name": "Python 3",
   "language": "python",
   "name": "python3"
  },
  "language_info": {
   "codemirror_mode": {
    "name": "ipython",
    "version": 3
   },
   "file_extension": ".py",
   "mimetype": "text/x-python",
   "name": "python",
   "nbconvert_exporter": "python",
   "pygments_lexer": "ipython3",
   "version": "3.10.13"
  }
 },
 "nbformat": 4,
 "nbformat_minor": 2
}
